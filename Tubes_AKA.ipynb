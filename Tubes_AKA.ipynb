{
  "nbformat": 4,
  "nbformat_minor": 0,
  "metadata": {
    "colab": {
      "provenance": []
    },
    "kernelspec": {
      "name": "python3",
      "display_name": "Python 3"
    },
    "language_info": {
      "name": "python"
    }
  },
  "cells": [
    {
      "cell_type": "markdown",
      "source": [],
      "metadata": {
        "id": "tut1qY6Thk3e"
      }
    },
    {
      "cell_type": "code",
      "source": [
        "import time\n",
        "import pandas as pd\n",
        "import matplotlib.pyplot as plt\n",
        "from functools import lru_cache\n",
        "\n",
        "@lru_cache(maxsize=None)\n",
        "def fibonacci_recursive(n):\n",
        "    if n <= 1:\n",
        "        return n\n",
        "    return fibonacci_recursive(n - 1) + fibonacci_recursive(n - 2)\n",
        "\n",
        "def fibonacci_iterative(n):\n",
        "    a, b = 0, 1\n",
        "    for _ in range(n):\n",
        "        a, b = b, a + b\n",
        "    return a\n",
        "\n",
        "def measure_time(func, n):\n",
        "    start_time = time.time()\n",
        "    func(n)\n",
        "    execution_time = time.time() - start_time\n",
        "    return execution_time\n"
      ],
      "metadata": {
        "id": "tbvlUfZwTcDE"
      },
      "execution_count": 5,
      "outputs": []
    },
    {
      "cell_type": "code",
      "source": [
        "file_name = \"datamahasiswa.csv\"\n",
        "try:\n",
        "    data = pd.read_csv(file_name, header=0)\n",
        "    print(\"Kolom tersedia dalam file:\", data.columns.tolist())\n",
        "except FileNotFoundError:\n",
        "    print(f\"File '{file_name}' tidak ditemukan.\")\n",
        "    exit()\n",
        "\n",
        "# Memastikan kolom \"Nilai\" ada di file\n",
        "if \"Nilai\" not in data.columns:\n",
        "    print(\"Kolom 'Nilai' tidak ditemukan dalam file.\")\n",
        "    exit()\n",
        "\n",
        "# Mengambil nilai dari kolom \"Nilai\" dan memastikan tipe data numerik\n",
        "try:\n",
        "    n_values = data[\"Nilai\"].dropna().astype(int).tolist()\n",
        "    print(\"Nilai dari kolom 'Nilai':\", n_values)\n",
        "except ValueError:\n",
        "    print(\"Kolom 'Nilai' harus berisi angka yang valid.\")\n",
        "    exit()\n"
      ],
      "metadata": {
        "colab": {
          "base_uri": "https://localhost:8080/"
        },
        "id": "-LY1oapFTnyj",
        "outputId": "5f02278f-1d8e-4f23-cc47-431580816d31"
      },
      "execution_count": 6,
      "outputs": [
        {
          "output_type": "stream",
          "name": "stdout",
          "text": [
            "Kolom tersedia dalam file: ['ID', 'Nama', 'Umur', 'Gender', 'Nilai', 'Matkul', 'Tanggal', 'UTS', 'UAS']\n",
            "Nilai dari kolom 'Nilai': [85, 77, 90, 60, 77, 85, 90, 67, 75, 82, 83, 90, 87, 89, 86, 79, 76, 77, 86, 84, 78, 87, 80, 91, 92, 80, 83, 78, 86, 90, 79, 85, 74, 85, 91, 81, 81, 78, 80, 77, 87, 80, 84, 83, 83, 84, 88, 76, 86, 80, 92, 78, 90, 88, 89, 88, 91, 83, 76, 86, 73, 81, 76, 80, 80, 86, 77, 90, 85, 85, 75, 81, 78, 76, 86, 80, 83, 82, 75, 78, 85, 81, 87, 81, 81, 84, 85, 77, 72, 81, 84, 77, 90, 84, 87, 81, 82, 80, 72, 94]\n"
          ]
        }
      ]
    },
    {
      "cell_type": "code",
      "source": [
        "n_max_limit = 10000\n",
        "n_values_filtered = [n for n in n_values if n <= n_max_limit]\n",
        "if not n_values_filtered:\n",
        "    print(f\"Tidak ada nilai dalam rentang 0 hingga {n_max_limit}.\")\n",
        "    exit()\n",
        "\n",
        "print(\"Nilai setelah filtering:\", n_values_filtered)\n"
      ],
      "metadata": {
        "colab": {
          "base_uri": "https://localhost:8080/"
        },
        "id": "utNxDPTcTxGZ",
        "outputId": "550f8c3f-8195-402e-a7b8-262a53a99662"
      },
      "execution_count": 7,
      "outputs": [
        {
          "output_type": "stream",
          "name": "stdout",
          "text": [
            "Nilai setelah filtering: [85, 77, 90, 60, 77, 85, 90, 67, 75, 82, 83, 90, 87, 89, 86, 79, 76, 77, 86, 84, 78, 87, 80, 91, 92, 80, 83, 78, 86, 90, 79, 85, 74, 85, 91, 81, 81, 78, 80, 77, 87, 80, 84, 83, 83, 84, 88, 76, 86, 80, 92, 78, 90, 88, 89, 88, 91, 83, 76, 86, 73, 81, 76, 80, 80, 86, 77, 90, 85, 85, 75, 81, 78, 76, 86, 80, 83, 82, 75, 78, 85, 81, 87, 81, 81, 84, 85, 77, 72, 81, 84, 77, 90, 84, 87, 81, 82, 80, 72, 94]\n"
          ]
        }
      ]
    },
    {
      "cell_type": "code",
      "source": [
        "# Running time untuk rekursif (90)\n",
        "recursive_limit = 90\n",
        "recursive_n = [n for n in n_values_filtered if n <= recursive_limit]\n",
        "recursive_times = [measure_time(fibonacci_recursive, n) for n in recursive_n]\n",
        "\n",
        "# Running time untuk iteratif\n",
        "iterative_times = [measure_time(fibonacci_iterative, n) for n in n_values_filtered]\n"
      ],
      "metadata": {
        "id": "-cvztzT1T0Xs"
      },
      "execution_count": 8,
      "outputs": []
    },
    {
      "cell_type": "code",
      "source": [
        "from prettytable import PrettyTable\n",
        "\n",
        "# Membuat DataFrame untuk menyimpan hasil waktu eksekusi\n",
        "execution_data = {\n",
        "    \"Nilai Fibonacci (n)\": n_values_filtered,\n",
        "    \"Waktu Rekursif (detik)\": [measure_time(fibonacci_recursive, n) if n <= recursive_limit else None for n in n_values_filtered],\n",
        "    \"Waktu Iteratif (detik)\": iterative_times,\n",
        "}\n",
        "\n",
        "# Konversi ke DataFrame\n",
        "execution_df = pd.DataFrame(execution_data)\n",
        "\n",
        "# Fungsi untuk menampilkan tabel eksekusi dalam kelompok 20 baris\n",
        "def print_execution_table_in_chunks(df, chunk_size=20):\n",
        "    num_rows = len(df)\n",
        "    for start in range(0, num_rows, chunk_size):\n",
        "        end = min(start + chunk_size, num_rows)\n",
        "        chunk = df.iloc[start:end]\n",
        "\n",
        "        # Membuat tabel untuk setiap grup\n",
        "        table = PrettyTable()\n",
        "        table.field_names = [\"Nilai Fibonacci (n)\", \"Waktu Rekursif (detik)\", \"Waktu Iteratif (detik)\"]\n",
        "\n",
        "        for _, row in chunk.iterrows():\n",
        "            table.add_row([row[\"Nilai Fibonacci (n)\"], row[\"Waktu Rekursif (detik)\"], row[\"Waktu Iteratif (detik)\"]])\n",
        "\n",
        "        print(\"\\nTabel Waktu Eksekusi (Baris {}-{}):\".format(start + 1, end))\n",
        "        print(table)\n",
        "\n",
        "# Panggil fungsi untuk menampilkan tabel PrettyTable secara terkelompok\n",
        "print_execution_table_in_chunks(execution_df, chunk_size=20)\n",
        "\n",
        "# Menyimpan DataFrame ke file CSV untuk referensi\n",
        "execution_df.to_csv(\"execution_times.csv\", index=False)\n",
        "print(\"\\nData waktu eksekusi disimpan ke 'execution_times.csv'.\")\n"
      ],
      "metadata": {
        "colab": {
          "base_uri": "https://localhost:8080/"
        },
        "id": "3l2z87JFMOay",
        "outputId": "e579d5d7-ecb4-49ef-9c25-808261dbfde4"
      },
      "execution_count": 10,
      "outputs": [
        {
          "output_type": "stream",
          "name": "stdout",
          "text": [
            "\n",
            "Tabel Waktu Eksekusi (Baris 1-20):\n",
            "+---------------------+------------------------+------------------------+\n",
            "| Nilai Fibonacci (n) | Waktu Rekursif (detik) | Waktu Iteratif (detik) |\n",
            "+---------------------+------------------------+------------------------+\n",
            "|         85.0        | 1.430511474609375e-06  |  1.33514404296875e-05  |\n",
            "|         77.0        | 7.152557373046875e-07  | 9.298324584960938e-06  |\n",
            "|         90.0        |  4.76837158203125e-07  | 1.049041748046875e-05  |\n",
            "|         60.0        | 2.384185791015625e-07  | 6.9141387939453125e-06 |\n",
            "|         77.0        | 2.384185791015625e-07  | 8.821487426757812e-06  |\n",
            "|         85.0        | 2.384185791015625e-07  | 9.775161743164062e-06  |\n",
            "|         90.0        | 2.384185791015625e-07  | 9.298324584960938e-06  |\n",
            "|         67.0        | 2.384185791015625e-07  | 8.106231689453125e-06  |\n",
            "|         75.0        | 7.152557373046875e-07  | 8.344650268554688e-06  |\n",
            "|         82.0        |  4.76837158203125e-07  | 2.1219253540039062e-05 |\n",
            "|         83.0        | 2.384185791015625e-07  |  9.5367431640625e-06   |\n",
            "|         90.0        |          0.0           | 1.049041748046875e-05  |\n",
            "|         87.0        |  4.76837158203125e-07  | 1.0013580322265625e-05 |\n",
            "|         89.0        |  4.76837158203125e-07  | 1.0013580322265625e-05 |\n",
            "|         86.0        | 2.384185791015625e-07  | 1.0013580322265625e-05 |\n",
            "|         79.0        | 7.152557373046875e-07  | 9.059906005859375e-06  |\n",
            "|         76.0        | 2.384185791015625e-07  |  8.58306884765625e-06  |\n",
            "|         77.0        | 2.384185791015625e-07  | 8.821487426757812e-06  |\n",
            "|         86.0        | 2.384185791015625e-07  | 9.775161743164062e-06  |\n",
            "|         84.0        | 7.152557373046875e-07  |  9.5367431640625e-06   |\n",
            "+---------------------+------------------------+------------------------+\n",
            "\n",
            "Tabel Waktu Eksekusi (Baris 21-40):\n",
            "+---------------------+------------------------+------------------------+\n",
            "| Nilai Fibonacci (n) | Waktu Rekursif (detik) | Waktu Iteratif (detik) |\n",
            "+---------------------+------------------------+------------------------+\n",
            "|         78.0        | 2.384185791015625e-07  | 9.059906005859375e-06  |\n",
            "|         87.0        | 2.384185791015625e-07  | 1.0251998901367188e-05 |\n",
            "|         80.0        |  4.76837158203125e-07  | 8.821487426757812e-06  |\n",
            "|         91.0        |          nan           | 1.049041748046875e-05  |\n",
            "|         92.0        |          nan           | 1.0013580322265625e-05 |\n",
            "|         80.0        | 2.384185791015625e-07  | 1.3113021850585938e-05 |\n",
            "|         83.0        | 2.384185791015625e-07  | 9.775161743164062e-06  |\n",
            "|         78.0        | 2.384185791015625e-07  | 8.821487426757812e-06  |\n",
            "|         86.0        | 2.384185791015625e-07  | 9.775161743164062e-06  |\n",
            "|         90.0        | 2.384185791015625e-07  | 1.0251998901367188e-05 |\n",
            "|         79.0        |  4.76837158203125e-07  | 8.821487426757812e-06  |\n",
            "|         85.0        | 2.384185791015625e-07  | 9.775161743164062e-06  |\n",
            "|         74.0        | 2.384185791015625e-07  | 8.106231689453125e-06  |\n",
            "|         85.0        |  4.76837158203125e-07  | 9.775161743164062e-06  |\n",
            "|         91.0        |          nan           | 1.0251998901367188e-05 |\n",
            "|         81.0        |  4.76837158203125e-07  | 9.059906005859375e-06  |\n",
            "|         81.0        | 2.384185791015625e-07  | 9.059906005859375e-06  |\n",
            "|         78.0        | 2.384185791015625e-07  | 8.821487426757812e-06  |\n",
            "|         80.0        | 2.384185791015625e-07  | 9.298324584960938e-06  |\n",
            "|         77.0        | 2.384185791015625e-07  |  8.58306884765625e-06  |\n",
            "+---------------------+------------------------+------------------------+\n",
            "\n",
            "Tabel Waktu Eksekusi (Baris 41-60):\n",
            "+---------------------+------------------------+------------------------+\n",
            "| Nilai Fibonacci (n) | Waktu Rekursif (detik) | Waktu Iteratif (detik) |\n",
            "+---------------------+------------------------+------------------------+\n",
            "|         87.0        | 2.384185791015625e-07  | 9.775161743164062e-06  |\n",
            "|         80.0        | 2.384185791015625e-07  | 9.298324584960938e-06  |\n",
            "|         84.0        | 2.384185791015625e-07  | 9.775161743164062e-06  |\n",
            "|         83.0        | 2.384185791015625e-07  |  9.5367431640625e-06   |\n",
            "|         83.0        | 2.384185791015625e-07  | 9.298324584960938e-06  |\n",
            "|         84.0        | 2.384185791015625e-07  |  9.5367431640625e-06   |\n",
            "|         88.0        | 2.384185791015625e-07  | 1.0251998901367188e-05 |\n",
            "|         76.0        | 2.384185791015625e-07  |  8.58306884765625e-06  |\n",
            "|         86.0        | 2.384185791015625e-07  | 9.775161743164062e-06  |\n",
            "|         80.0        | 2.384185791015625e-07  | 9.059906005859375e-06  |\n",
            "|         92.0        |          nan           | 1.0251998901367188e-05 |\n",
            "|         78.0        | 2.384185791015625e-07  | 8.821487426757812e-06  |\n",
            "|         90.0        | 2.384185791015625e-07  | 1.049041748046875e-05  |\n",
            "|         88.0        | 2.384185791015625e-07  | 1.0251998901367188e-05 |\n",
            "|         89.0        | 2.384185791015625e-07  | 1.0013580322265625e-05 |\n",
            "|         88.0        | 2.384185791015625e-07  | 1.0013580322265625e-05 |\n",
            "|         91.0        |          nan           | 1.049041748046875e-05  |\n",
            "|         83.0        | 2.384185791015625e-07  | 9.298324584960938e-06  |\n",
            "|         76.0        | 2.384185791015625e-07  | 1.5974044799804688e-05 |\n",
            "|         86.0        | 2.384185791015625e-07  | 1.0251998901367188e-05 |\n",
            "+---------------------+------------------------+------------------------+\n",
            "\n",
            "Tabel Waktu Eksekusi (Baris 61-80):\n",
            "+---------------------+------------------------+------------------------+\n",
            "| Nilai Fibonacci (n) | Waktu Rekursif (detik) | Waktu Iteratif (detik) |\n",
            "+---------------------+------------------------+------------------------+\n",
            "|         73.0        | 7.152557373046875e-07  |  8.58306884765625e-06  |\n",
            "|         81.0        | 2.384185791015625e-07  | 9.298324584960938e-06  |\n",
            "|         76.0        | 2.384185791015625e-07  |  8.58306884765625e-06  |\n",
            "|         80.0        | 2.384185791015625e-07  | 9.059906005859375e-06  |\n",
            "|         80.0        | 7.152557373046875e-07  | 9.059906005859375e-06  |\n",
            "|         86.0        | 2.384185791015625e-07  |  9.5367431640625e-06   |\n",
            "|         77.0        | 2.384185791015625e-07  | 8.821487426757812e-06  |\n",
            "|         90.0        | 2.384185791015625e-07  | 1.0251998901367188e-05 |\n",
            "|         85.0        | 2.384185791015625e-07  | 9.775161743164062e-06  |\n",
            "|         85.0        | 2.384185791015625e-07  | 9.298324584960938e-06  |\n",
            "|         75.0        |  4.76837158203125e-07  | 8.344650268554688e-06  |\n",
            "|         81.0        | 2.384185791015625e-07  |  9.5367431640625e-06   |\n",
            "|         78.0        | 2.384185791015625e-07  | 9.059906005859375e-06  |\n",
            "|         76.0        |  4.76837158203125e-07  | 8.344650268554688e-06  |\n",
            "|         86.0        | 2.384185791015625e-07  | 9.775161743164062e-06  |\n",
            "|         80.0        | 2.384185791015625e-07  | 8.821487426757812e-06  |\n",
            "|         83.0        | 2.384185791015625e-07  | 9.775161743164062e-06  |\n",
            "|         82.0        |  4.76837158203125e-07  | 9.298324584960938e-06  |\n",
            "|         75.0        | 2.384185791015625e-07  |  8.58306884765625e-06  |\n",
            "|         78.0        |  4.76837158203125e-07  |  8.58306884765625e-06  |\n",
            "+---------------------+------------------------+------------------------+\n",
            "\n",
            "Tabel Waktu Eksekusi (Baris 81-100):\n",
            "+---------------------+------------------------+------------------------+\n",
            "| Nilai Fibonacci (n) | Waktu Rekursif (detik) | Waktu Iteratif (detik) |\n",
            "+---------------------+------------------------+------------------------+\n",
            "|         85.0        | 2.384185791015625e-07  | 9.775161743164062e-06  |\n",
            "|         81.0        | 2.384185791015625e-07  | 9.059906005859375e-06  |\n",
            "|         87.0        | 2.384185791015625e-07  | 1.0013580322265625e-05 |\n",
            "|         81.0        |  4.76837158203125e-07  |  9.5367431640625e-06   |\n",
            "|         81.0        | 2.384185791015625e-07  | 8.821487426757812e-06  |\n",
            "|         84.0        | 2.384185791015625e-07  | 9.775161743164062e-06  |\n",
            "|         85.0        | 2.384185791015625e-07  | 9.775161743164062e-06  |\n",
            "|         77.0        | 2.384185791015625e-07  | 9.059906005859375e-06  |\n",
            "|         72.0        | 2.384185791015625e-07  | 8.106231689453125e-06  |\n",
            "|         81.0        | 2.384185791015625e-07  | 9.059906005859375e-06  |\n",
            "|         84.0        | 2.384185791015625e-07  | 1.5974044799804688e-05 |\n",
            "|         77.0        | 2.384185791015625e-07  | 9.059906005859375e-06  |\n",
            "|         90.0        |  4.76837158203125e-07  | 1.049041748046875e-05  |\n",
            "|         84.0        | 2.384185791015625e-07  | 9.775161743164062e-06  |\n",
            "|         87.0        | 2.384185791015625e-07  | 1.0013580322265625e-05 |\n",
            "|         81.0        | 2.384185791015625e-07  | 8.344650268554688e-06  |\n",
            "|         82.0        | 2.384185791015625e-07  | 9.059906005859375e-06  |\n",
            "|         80.0        | 2.384185791015625e-07  | 9.298324584960938e-06  |\n",
            "|         72.0        |  4.76837158203125e-07  | 8.106231689453125e-06  |\n",
            "|         94.0        |          nan           | 1.0728836059570312e-05 |\n",
            "+---------------------+------------------------+------------------------+\n",
            "\n",
            "Data waktu eksekusi disimpan ke 'execution_times.csv'.\n"
          ]
        }
      ]
    },
    {
      "cell_type": "code",
      "source": [
        "plt.figure(figsize=(14, 7))\n",
        "\n",
        "# Plot rekursif\n",
        "plt.subplot(1, 2, 1)\n",
        "if recursive_n:\n",
        "    plt.scatter(recursive_n, recursive_times, label=\"Rekursif\", color=\"red\")\n",
        "    plt.xlabel(\"Nilai Fibonacci (n)\")\n",
        "    plt.ylabel(\"Waktu Eksekusi (detik)\")\n",
        "    plt.title(\"Waktu Eksekusi: Algoritma Rekursif\")\n",
        "    plt.yscale(\"log\")  # Skala log untuk visualisasi data eksponensial\n",
        "    plt.legend()\n",
        "else:\n",
        "    plt.text(0.5, 0.5, \"Tidak ada data untuk rekursif (n ≤ 90)\", ha=\"center\", va=\"center\")\n",
        "    plt.axis(\"off\")\n",
        "\n",
        "# Plot iteratif\n",
        "plt.subplot(1, 2, 2)\n",
        "plt.scatter(n_values_filtered, iterative_times, label=\"Iteratif\", color=\"blue\")\n",
        "plt.xlabel(\"Nilai Fibonacci (n)\")\n",
        "plt.ylabel(\"Waktu Eksekusi (detik)\")\n",
        "plt.title(\"Waktu Eksekusi: Algoritma Iteratif\")\n",
        "plt.yscale(\"log\")  # Skala log untuk visualisasi perubahan kecil\n",
        "plt.legend()\n",
        "\n",
        "plt.tight_layout()\n",
        "plt.show()\n"
      ],
      "metadata": {
        "colab": {
          "base_uri": "https://localhost:8080/",
          "height": 707
        },
        "id": "Jy1ghW2iUA9w",
        "outputId": "96be5e64-5f10-4018-99e2-99907b0a5086"
      },
      "execution_count": 6,
      "outputs": [
        {
          "output_type": "display_data",
          "data": {
            "text/plain": [
              "<Figure size 1400x700 with 2 Axes>"
            ],
            "image/png": "[encoded data removed]"
          },
          "metadata": {}
        }
      ]
    },
    {
      "cell_type": "markdown",
      "source": [
        "- Grafik rekursi (kiri) Metode rekursif menghitung Fibonacci dengan memanggil fungsi secara berulang untuk nilai sebelumnya. Meskipun mudah dipahami, cara ini sangat tidak efisien karena banyak perhitungan yang diulang, terutama untuk nilai n n besar. Hal ini membuat waktu eksekusinya meningkat secara eksponensial, seperti yang terlihat pada grafik kiri di mana waktu eksekusi melonjak drastis.\n",
        "\n",
        "- Grafik iteratif (kanan) Metode iteratif menggunakan perulangan untuk menghitung Fibonacci secara langsung tanpa pengulangan perhitungan. Dengan kompleksitas linier (𝑂(𝑛) O(n)), metode ini jauh lebih cepat dan efisien. Grafik kanan menunjukkan bahwa waktu eksekusi meningkat perlahan, membuat metode ini ideal untuk nilai n yang besar.\n",
        "\n",
        "-- Kesimpulan\n",
        "\n",
        "Metode rekursif dan iteratif memiliki efektivitas yang berbeda dalam menghitung deret Fibonacci. Metode rekursif, meskipun sederhana, sangat tidak efisien karena memiliki kompleksitas eksponensial (O(2𝑛)O(2 n)) dan waktu eksekusi yang meningkat tajam seiring bertambahnya n n. Sebaliknya, metode iteratif jauh lebih efektif, dengan kompleksitas linier ((n)O(n)) yang membuatnya lebih cepat dan efisien, terutama untuk nilai n n yang besar. Oleh karena itu, metode iteratif adalah pilihan yang lebih praktis untuk aplikasi yang membutuhkan kecepatan dan efisiensi."
      ],
      "metadata": {
        "id": "3c3UScbKO1Lh"
      }
    },
    {
      "cell_type": "code",
      "source": [
        "print(\"Analisis Kompleksitas:\")\n",
        "print(\"- Algoritma Rekursif: O(2^n) karena melakukan percabangan eksponensial.\")\n",
        "print(\"- Algoritma Iteratif: O(n) karena melakukan iterasi linear terhadap n.\")\n"
      ],
      "metadata": {
        "colab": {
          "base_uri": "https://localhost:8080/"
        },
        "id": "-GR5hqhEUCzS",
        "outputId": "6fe3da92-aec2-4ef6-cb36-1bc002d29993"
      },
      "execution_count": 7,
      "outputs": [
        {
          "output_type": "stream",
          "name": "stdout",
          "text": [
            "Analisis Kompleksitas:\n",
            "- Algoritma Rekursif: O(2^n) karena melakukan percabangan eksponensial.\n",
            "- Algoritma Iteratif: O(n) karena melakukan iterasi linear terhadap n.\n"
          ]
        }
      ]
    },
    {
      "cell_type": "markdown",
      "source": [],
      "metadata": {
        "id": "C8oS4L-FOzox"
      }
    }
  ]
}